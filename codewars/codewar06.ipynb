{
 "cells": [
  {
   "cell_type": "markdown",
   "id": "19fa434b-b175-4d1c-9e02-df45afb3ed08",
   "metadata": {},
   "source": [
    "test.assert_equals(domain_name(\"http://google.com\"), \"google\")\n",
    "test.assert_equals(domain_name(\"http://google.co.jp\"), \"google\")\n",
    "test.assert_equals(domain_name(\"www.xakep.ru\"), \"xakep\")\n",
    "test.assert_equals(domain_name(\"https://youtube.com\"), \"youtube\")\n",
    "\n",
    "文字列の切り出しを行う\n",
    "切り出す位置の指定。//の後、wwwの後を指定する。\n",
    "\n",
    ".で文字列を配列に入れて、wwwで終わらない要素を対象にする"
   ]
  },
  {
   "cell_type": "code",
   "execution_count": null,
   "id": "ea8ddc99-1463-449f-ba6f-135e34cccd14",
   "metadata": {},
   "outputs": [],
   "source": [
    "def domain_name(url):\n",
    "    t = []\n",
    "    t.append(url.find(\"/\")+2) if url.find(\"/\") != -1 else t.append(url.find(\".\")+1)\n",
    "    t.append(url.find(\".\")) if url.find(\"/\") != -1 else t.append(url[t[0]:].find(\".\"))\n",
    "    t.append(url[t[0]:t[1]]) if url.find(\"/\") != -1 else t.append(url[t[0]:t[0]+t[1]])\n",
    "    return t[2]"
   ]
  },
  {
   "cell_type": "code",
   "execution_count": null,
   "id": "ef41ac84-0319-4a30-89bd-3a2b0848fb9b",
   "metadata": {},
   "outputs": [],
   "source": [
    "def domain_name(url):\n",
    "    splitted_url = url.split(\".\")\n",
    "    if splitted_url[0].endswith(\"www\"):\n",
    "        domain = splitted_url[1]\n",
    "        return domain\n",
    "    else:\n",
    "        return splitted_url[0][splitted_url[0].find(\"/\")+2:] if splitted_url[0].find(\"/\")+1 else splitted_url[0]"
   ]
  },
  {
   "cell_type": "code",
   "execution_count": null,
   "id": "5e812eca-aa76-4d4d-89c9-ff6996b30607",
   "metadata": {},
   "outputs": [],
   "source": [
    "# domainを抜き出せない例\n",
    "domain_name(\"http://www.com\")"
   ]
  },
  {
   "cell_type": "markdown",
   "id": "eb22c698-82c0-46fa-a482-dd0eab2710dc",
   "metadata": {},
   "source": [
    "The quick, brown fox jumps over the lazy dog!, True\n",
    "1bcdefghijklmnopqrstuvwxyz, False\n",
    "\n",
    "a-zの文字列を変数にバインド。\n",
    "実引数をpangramに対してチェックしていた。pangram自体を実引数に対してチェックするともっとシンプルになる。"
   ]
  },
  {
   "cell_type": "code",
   "execution_count": null,
   "id": "6771380b-ed53-43b0-806d-1a39b9cd11b9",
   "metadata": {},
   "outputs": [],
   "source": [
    "test_str = \"The quick, brown fox jumps over the lazy dog\"\n",
    "# test_str = \"1bcdefghijklmnopqrstuvwxyz\"\n",
    "\n",
    "tmp_str = test_str.lower()\n",
    "pangram = \"abcdefghijklmnopqrstuvwxyz\"\n",
    "pan_list = list(pangram)\n",
    "\n",
    "\n",
    "def is_pangram(test_str):\n",
    "    pangram = \"abcdefghijklmnopqrstuvwxyz\"\n",
    "    pan_list = list(pangram)\n",
    "    \n",
    "    tmp_str = test_str.lower()\n",
    "    for i in tmp_str:\n",
    "        try:\n",
    "            pan_list.remove(i)\n",
    "        except:\n",
    "            pass\n",
    "    print(pan_list)\n",
    "    return False if len(pan_list) else True\n",
    "\n",
    "\n",
    "is_pangram(test_str)"
   ]
  },
  {
   "cell_type": "markdown",
   "id": "a5918e0a-c5d5-4454-b7eb-d37887a0b818",
   "metadata": {},
   "source": [
    "test.assert_equals(duplicate_count(\"\"), 0)\n",
    "test.assert_equals(duplicate_count(\"abcde\"), 0)\n",
    "test.assert_equals(duplicate_count(\"abcdeaa\"), 1)\n",
    "test.assert_equals(duplicate_count(\"abcdeaB\"), 2)\n",
    "test.assert_equals(duplicate_count(\"Indivisibilities\"), 2)"
   ]
  },
  {
   "cell_type": "code",
   "execution_count": 41,
   "id": "4d03191c-e615-4716-ae9e-8de467abbd57",
   "metadata": {},
   "outputs": [
    {
     "data": {
      "text/plain": [
       "0"
      ]
     },
     "execution_count": 41,
     "metadata": {},
     "output_type": "execute_result"
    }
   ],
   "source": [
    "def duplicate_count(text):\n",
    "\n",
    "    text = text.lower()\n",
    "    str_list = list(text)\n",
    "\n",
    "    cnt_dict = {}\n",
    "    for char in str_list:\n",
    "        if char not in cnt_dict.keys():\n",
    "            cnt_dict[char] = 0\n",
    "        elif cnt_dict[char] == 0:\n",
    "            cnt_dict[char] = 1\n",
    "    return sum(cnt_dict.values())\n",
    "\n",
    "test_str = \"\"\n",
    "duplicate_count(test_str) "
   ]
  },
  {
   "cell_type": "code",
   "execution_count": 23,
   "id": "e48dd66a-1963-4578-9ec9-8dc9cb105511",
   "metadata": {},
   "outputs": [
    {
     "name": "stdout",
     "output_type": "stream",
     "text": [
      "False\n"
     ]
    }
   ],
   "source": [
    "cnt_dict = {\"test\": 1, \"hello\": 2}\n",
    "if \"hhh\" in cnt_dict.keys():\n",
    "    print(True)\n",
    "else:\n",
    "    print(False)"
   ]
  }
 ],
 "metadata": {
  "kernelspec": {
   "display_name": "Python 3 (ipykernel)",
   "language": "python",
   "name": "python3"
  },
  "language_info": {
   "codemirror_mode": {
    "name": "ipython",
    "version": 3
   },
   "file_extension": ".py",
   "mimetype": "text/x-python",
   "name": "python",
   "nbconvert_exporter": "python",
   "pygments_lexer": "ipython3",
   "version": "3.8.13"
  }
 },
 "nbformat": 4,
 "nbformat_minor": 5
}
