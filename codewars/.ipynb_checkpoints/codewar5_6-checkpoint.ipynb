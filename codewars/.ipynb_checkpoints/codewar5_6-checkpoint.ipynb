{
 "cells": [
  {
   "cell_type": "markdown",
   "id": "19fa434b-b175-4d1c-9e02-df45afb3ed08",
   "metadata": {},
   "source": [
    "test.assert_equals(domain_name(\"http://google.com\"), \"google\")\n",
    "test.assert_equals(domain_name(\"http://google.co.jp\"), \"google\")\n",
    "test.assert_equals(domain_name(\"www.xakep.ru\"), \"xakep\")\n",
    "test.assert_equals(domain_name(\"https://youtube.com\"), \"youtube\")\n",
    "\n",
    "文字列の切り出しを行う\n",
    "切り出す位置の指定。//の後、wwwの後を指定する。\n",
    "\n",
    ".で文字列を配列に入れて、wwwで終わらない要素を対象にする"
   ]
  },
  {
   "cell_type": "code",
   "execution_count": null,
   "id": "ea8ddc99-1463-449f-ba6f-135e34cccd14",
   "metadata": {},
   "outputs": [],
   "source": [
    "def domain_name(url):\n",
    "    t = []\n",
    "    t.append(url.find(\"/\")+2) if url.find(\"/\") != -1 else t.append(url.find(\".\")+1)\n",
    "    t.append(url.find(\".\")) if url.find(\"/\") != -1 else t.append(url[t[0]:].find(\".\"))\n",
    "    t.append(url[t[0]:t[1]]) if url.find(\"/\") != -1 else t.append(url[t[0]:t[0]+t[1]])\n",
    "    return t[2]"
   ]
  },
  {
   "cell_type": "code",
   "execution_count": null,
   "id": "ef41ac84-0319-4a30-89bd-3a2b0848fb9b",
   "metadata": {},
   "outputs": [],
   "source": [
    "def domain_name(url):\n",
    "    splitted_url = url.split(\".\")\n",
    "    if splitted_url[0].endswith(\"www\"):\n",
    "        domain = splitted_url[1]\n",
    "        return domain\n",
    "    else:\n",
    "        return splitted_url[0][splitted_url[0].find(\"/\")+2:] if splitted_url[0].find(\"/\")+1 else splitted_url[0]"
   ]
  },
  {
   "cell_type": "code",
   "execution_count": null,
   "id": "5e812eca-aa76-4d4d-89c9-ff6996b30607",
   "metadata": {},
   "outputs": [],
   "source": [
    "# domainを抜き出せない例\n",
    "domain_name(\"http://www.com\")"
   ]
  },
  {
   "cell_type": "markdown",
   "id": "eb22c698-82c0-46fa-a482-dd0eab2710dc",
   "metadata": {},
   "source": [
    "The quick, brown fox jumps over the lazy dog!, True\n",
    "1bcdefghijklmnopqrstuvwxyz, False\n",
    "\n",
    "a-zの文字列を変数にバインド。\n",
    "実引数をpangramに対してチェックしていた。pangram自体を実引数に対してチェックするともっとシンプルになる。"
   ]
  },
  {
   "cell_type": "code",
   "execution_count": null,
   "id": "6771380b-ed53-43b0-806d-1a39b9cd11b9",
   "metadata": {},
   "outputs": [],
   "source": [
    "test_str = \"The quick, brown fox jumps over the lazy dog\"\n",
    "# test_str = \"1bcdefghijklmnopqrstuvwxyz\"\n",
    "\n",
    "tmp_str = test_str.lower()\n",
    "pangram = \"abcdefghijklmnopqrstuvwxyz\"\n",
    "pan_list = list(pangram)\n",
    "\n",
    "\n",
    "def is_pangram(test_str):\n",
    "    pangram = \"abcdefghijklmnopqrstuvwxyz\"\n",
    "    pan_list = list(pangram)\n",
    "    \n",
    "    tmp_str = test_str.lower()\n",
    "    for i in tmp_str:\n",
    "        try:\n",
    "            pan_list.remove(i)\n",
    "        except:\n",
    "            pass\n",
    "    print(pan_list)\n",
    "    return False if len(pan_list) else True\n",
    "\n",
    "\n",
    "is_pangram(test_str)"
   ]
  },
  {
   "cell_type": "markdown",
   "id": "a5918e0a-c5d5-4454-b7eb-d37887a0b818",
   "metadata": {},
   "source": [
    "test.assert_equals(duplicate_count(\"\"), 0)\n",
    "test.assert_equals(duplicate_count(\"abcde\"), 0)\n",
    "test.assert_equals(duplicate_count(\"abcdeaa\"), 1)\n",
    "test.assert_equals(duplicate_count(\"abcdeaB\"), 2)\n",
    "test.assert_equals(duplicate_count(\"Indivisibilities\"), 2)"
   ]
  },
  {
   "cell_type": "code",
   "execution_count": null,
   "id": "4d03191c-e615-4716-ae9e-8de467abbd57",
   "metadata": {},
   "outputs": [],
   "source": [
    "def duplicate_count(text):\n",
    "\n",
    "    text = text.lower()\n",
    "    str_list = list(text)\n",
    "\n",
    "    cnt_dict = {}\n",
    "    for char in str_list:\n",
    "        if char not in cnt_dict.keys():\n",
    "            cnt_dict[char] = 0\n",
    "        elif cnt_dict[char] == 0:\n",
    "            cnt_dict[char] = 1\n",
    "    return sum(cnt_dict.values())\n",
    "\n",
    "test_str = \"\"\n",
    "duplicate_count(test_str) "
   ]
  },
  {
   "cell_type": "markdown",
   "id": "3b95308c-b6fe-44ea-9252-0fa61ea1a938",
   "metadata": {},
   "source": [
    "test.describe(\"Basic tests\")\n",
    "test.assert_equals(camel_case(\"test case\"), \"TestCase\")\n",
    "test.assert_equals(camel_case(\"camel case method\"), \"CamelCaseMethod\")\n",
    "test.assert_equals(camel_case(\"say hello \"), \"SayHello\")\n",
    "test.assert_equals(camel_case(\" camel case word\"), \"CamelCaseWord\")\n",
    "test.assert_equals(camel_case(\"\"), \"\")\n",
    "\n",
    "スペースでsplitしてjoinする。最初の文字だけupperにする"
   ]
  },
  {
   "cell_type": "code",
   "execution_count": null,
   "id": "af490a1e-16a1-4e15-898f-9c31cce2430e",
   "metadata": {},
   "outputs": [],
   "source": [
    "test_str = \"camel case method\"\n",
    "\n",
    "\n",
    "def camel_case(string):\n",
    "    splitted_str = string.split(\" \")\n",
    "    x = \"\"\n",
    "    for word in splitted_str:\n",
    "        if word:\n",
    "            x += word[0].upper()\n",
    "            x += word[1:]\n",
    "            print(word)\n",
    "    return x\n",
    "        \n",
    "camel_case(test_str)"
   ]
  },
  {
   "cell_type": "markdown",
   "id": "82dea53c-8e2f-4b4f-be60-355211d24b52",
   "metadata": {},
   "source": [
    "書く単語の長さ分だけ、要素を用意する。"
   ]
  },
  {
   "cell_type": "code",
   "execution_count": null,
   "id": "86e5767d-2b3b-4e1f-8c3e-be299e0dd5ce",
   "metadata": {},
   "outputs": [],
   "source": [
    "def wave(people):\n",
    "    list_str = people.split(\" \")\n",
    "    result = []\n",
    "    for word in list_str:\n",
    "        for i in range(len(word)):\n",
    "            tmp_list = list(word)\n",
    "            tmp_list[i] = word[i].upper()\n",
    "            result.append(\"\".join(tmp_list))\n",
    "    return result"
   ]
  },
  {
   "cell_type": "code",
   "execution_count": null,
   "id": "6f463f74-0727-442a-b82c-16c7b6ab7797",
   "metadata": {},
   "outputs": [],
   "source": [
    "def wave(people):\n",
    "    tmp = []\n",
    "    for i in range(len(people)):\n",
    "        if list(people)[i] != \" \":\n",
    "            char_list = list(people)\n",
    "            char_list[i] = people[i].upper()\n",
    "            tmp.append(\"\".join(char_list))\n",
    "    return tmp"
   ]
  },
  {
   "cell_type": "code",
   "execution_count": null,
   "id": "cd5695df-c51f-4f17-829e-b54fc452a466",
   "metadata": {},
   "outputs": [],
   "source": [
    "people = \"two\"\n",
    "# people = \"two words\"\n",
    "# people = \"three words here\"\n",
    "people = \"\"\n",
    "wave(people)"
   ]
  },
  {
   "cell_type": "code",
   "execution_count": 153,
   "id": "18fc1686-124d-4ca8-90ff-b3b5233fe413",
   "metadata": {},
   "outputs": [],
   "source": [
    "def alphanumeric(password):\n",
    "    alphanum = \"abcdefghijklnmopqrstuvwxyz0123456789\"\n",
    "    \n",
    "    if not len(str(password)):\n",
    "        return False\n",
    "    \n",
    "    tmp_list = list(str(password).lower())\n",
    "    for char in tmp_list:\n",
    "        if char not in alphanum:\n",
    "            return False\n",
    "    return True"
   ]
  },
  {
   "cell_type": "code",
   "execution_count": 156,
   "id": "e80852d8-f108-43c6-b6df-edcf32fac790",
   "metadata": {},
   "outputs": [
    {
     "data": {
      "text/plain": [
       "False"
      ]
     },
     "execution_count": 156,
     "metadata": {},
     "output_type": "execute_result"
    }
   ],
   "source": [
    "alphanumeric(\"\")"
   ]
  }
 ],
 "metadata": {
  "kernelspec": {
   "display_name": "Python 3 (ipykernel)",
   "language": "python",
   "name": "python3"
  },
  "language_info": {
   "codemirror_mode": {
    "name": "ipython",
    "version": 3
   },
   "file_extension": ".py",
   "mimetype": "text/x-python",
   "name": "python",
   "nbconvert_exporter": "python",
   "pygments_lexer": "ipython3",
   "version": "3.8.13"
  }
 },
 "nbformat": 4,
 "nbformat_minor": 5
}
