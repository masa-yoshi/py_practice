{
 "cells": [
  {
   "cell_type": "code",
   "execution_count": null,
   "id": "1e1d79f1-e62d-434d-8642-90853966df5d",
   "metadata": {},
   "outputs": [],
   "source": [
    "a = []\n",
    "for i in range(10):\n",
    "    a.append(i**2)"
   ]
  },
  {
   "cell_type": "code",
   "execution_count": null,
   "id": "246fe1c9-e763-4998-bb6e-756491237500",
   "metadata": {},
   "outputs": [],
   "source": [
    "b = [\"Buzz\" if i%15 == 0 else \"Fizz\" if i%3 == 0 else \"Buzz\" if i%5 == 0 else i for i in range(1, 31)]"
   ]
  },
  {
   "cell_type": "code",
   "execution_count": null,
   "id": "4288534f-45cf-4595-a2ec-e587a87ad2e9",
   "metadata": {},
   "outputs": [],
   "source": [
    "for i in (i*i for i in range(100)):\n",
    "    print(i, end=\" \")"
   ]
  },
  {
   "cell_type": "code",
   "execution_count": 21,
   "id": "4b4a640a-505d-4738-9c2a-ba96b3748fb3",
   "metadata": {},
   "outputs": [],
   "source": [
    "def loop(f):\n",
    "    for i in range(10):\n",
    "        print(f(i), end=\" \")\n",
    "        \n",
    "        \n",
    "def square(x):\n",
    "    return x*x"
   ]
  },
  {
   "cell_type": "code",
   "execution_count": 22,
   "id": "544d2fd7-ad35-4953-9a60-25b44852ef90",
   "metadata": {},
   "outputs": [
    {
     "name": "stdout",
     "output_type": "stream",
     "text": [
      "0 1 4 9 16 25 36 49 64 81 "
     ]
    }
   ],
   "source": [
    "loop(square)"
   ]
  },
  {
   "cell_type": "code",
   "execution_count": 31,
   "id": "0a4d58b4-a254-4303-a963-69d4c7fe44a7",
   "metadata": {},
   "outputs": [
    {
     "data": {
      "text/plain": [
       "140597057336384"
      ]
     },
     "execution_count": 31,
     "metadata": {},
     "output_type": "execute_result"
    }
   ],
   "source": [
    "menu = [(\"burger\", 110, 240), (\"potato\", 150, 226), (\"shake\", 120, 218)]\n",
    "id(menu)"
   ]
  },
  {
   "cell_type": "code",
   "execution_count": 26,
   "id": "f44237f4-59ee-4de1-a70b-cc7d6cee3528",
   "metadata": {},
   "outputs": [
    {
     "data": {
      "text/plain": [
       "[('shake', 120, 218), ('potato', 150, 226), ('burger', 110, 240)]"
      ]
     },
     "execution_count": 26,
     "metadata": {},
     "output_type": "execute_result"
    }
   ],
   "source": [
    "sorted(menu, reverse=True)"
   ]
  },
  {
   "cell_type": "code",
   "execution_count": 32,
   "id": "a60a1dd1-1c53-4e09-a84b-272e31a89af2",
   "metadata": {},
   "outputs": [
    {
     "data": {
      "text/plain": [
       "140597057336384"
      ]
     },
     "execution_count": 32,
     "metadata": {},
     "output_type": "execute_result"
    }
   ],
   "source": [
    "menu.sort(reverse = True)\n",
    "id(menu)"
   ]
  },
  {
   "cell_type": "code",
   "execution_count": 34,
   "id": "88c4e3d9-98a6-4d29-99ac-bf02580b6dee",
   "metadata": {},
   "outputs": [
    {
     "ename": "AssertionError",
     "evalue": "",
     "output_type": "error",
     "traceback": [
      "\u001b[0;31m---------------------------------------------------------------------------\u001b[0m",
      "\u001b[0;31mAssertionError\u001b[0m                            Traceback (most recent call last)",
      "Input \u001b[0;32mIn [34]\u001b[0m, in \u001b[0;36m<cell line: 1>\u001b[0;34m()\u001b[0m\n\u001b[0;32m----> 1\u001b[0m \u001b[38;5;28;01massert\u001b[39;00m \u001b[38;5;241m0\u001b[39m\n",
      "\u001b[0;31mAssertionError\u001b[0m: "
     ]
    }
   ],
   "source": [
    "assert 0"
   ]
  },
  {
   "cell_type": "code",
   "execution_count": 45,
   "id": "c6550d27-1ba8-4d36-9e5d-e6f8c4024a49",
   "metadata": {},
   "outputs": [],
   "source": [
    "with open(\"message.txt\", \"w\", encoding=\"utf-8\") as file:\n",
    "    file.write(\"Hello\\n\")\n",
    "    file.write(\"Python\\n\")\n",
    "    file.write(\"masayoshi\\n\")"
   ]
  },
  {
   "cell_type": "code",
   "execution_count": 48,
   "id": "ea792679-ff9c-4f2f-8fdb-8d7449fd8591",
   "metadata": {},
   "outputs": [
    {
     "name": "stdout",
     "output_type": "stream",
     "text": [
      "0 Hello\n",
      "1 Python\n",
      "2 masayoshi\n"
     ]
    }
   ],
   "source": [
    "with open(\"message.txt\", \"r\", encoding=\"utf-8\") as file:\n",
    "    for count, line in enumerate(file):\n",
    "        print(count, line, end=\"\")"
   ]
  },
  {
   "cell_type": "code",
   "execution_count": 50,
   "id": "732ec472-eabd-4213-8377-07896beab929",
   "metadata": {},
   "outputs": [
    {
     "data": {
      "text/plain": [
       "['exception.py', 'gen.py', 'Untitled.ipynb', 'message.txt']"
      ]
     },
     "execution_count": 50,
     "metadata": {},
     "output_type": "execute_result"
    }
   ],
   "source": [
    "import glob\n",
    "glob.glob(\"*\", recursive=True)"
   ]
  },
  {
   "cell_type": "code",
   "execution_count": 53,
   "id": "58371773-9d85-4f0d-8afe-1c1d9a5d2a98",
   "metadata": {},
   "outputs": [],
   "source": [
    "import requests\n",
    "\n",
    "url = \"https://disclosure.edinet-fsa.go.jp/api/v1/documents.json\"\n",
    "params = {\"date\": \"2021-01-05\", \"type\": 2}\n",
    "\n",
    "r = requests.get(url, params=params)"
   ]
  },
  {
   "cell_type": "code",
   "execution_count": 58,
   "id": "cdd8cfa4-a3f2-424d-af90-9f0c41a42920",
   "metadata": {},
   "outputs": [],
   "source": [
    "test = r.json()"
   ]
  },
  {
   "cell_type": "code",
   "execution_count": 70,
   "id": "0591df7f-1430-4d69-b257-50a70325551b",
   "metadata": {},
   "outputs": [
    {
     "data": {
      "text/plain": [
       "{'seqNumber': 1,\n",
       " 'docID': 'S100KC76',\n",
       " 'edinetCode': None,\n",
       " 'secCode': None,\n",
       " 'JCN': None,\n",
       " 'filerName': None,\n",
       " 'fundCode': None,\n",
       " 'ordinanceCode': None,\n",
       " 'formCode': None,\n",
       " 'docTypeCode': None,\n",
       " 'periodStart': None,\n",
       " 'periodEnd': None,\n",
       " 'submitDateTime': None,\n",
       " 'docDescription': None,\n",
       " 'issuerEdinetCode': None,\n",
       " 'subjectEdinetCode': None,\n",
       " 'subsidiaryEdinetCode': None,\n",
       " 'currentReportReason': None,\n",
       " 'parentDocID': None,\n",
       " 'opeDateTime': None,\n",
       " 'withdrawalStatus': '0',\n",
       " 'docInfoEditStatus': '0',\n",
       " 'disclosureStatus': '0',\n",
       " 'xbrlFlag': '0',\n",
       " 'pdfFlag': '0',\n",
       " 'attachDocFlag': '0',\n",
       " 'englishDocFlag': '0'}"
      ]
     },
     "execution_count": 70,
     "metadata": {},
     "output_type": "execute_result"
    }
   ],
   "source": [
    "test[\"results\"][0]"
   ]
  }
 ],
 "metadata": {
  "kernelspec": {
   "display_name": "Python 3 (ipykernel)",
   "language": "python",
   "name": "python3"
  },
  "language_info": {
   "codemirror_mode": {
    "name": "ipython",
    "version": 3
   },
   "file_extension": ".py",
   "mimetype": "text/x-python",
   "name": "python",
   "nbconvert_exporter": "python",
   "pygments_lexer": "ipython3",
   "version": "3.8.13"
  }
 },
 "nbformat": 4,
 "nbformat_minor": 5
}
