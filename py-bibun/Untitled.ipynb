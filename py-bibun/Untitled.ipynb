{
 "cells": [
  {
   "cell_type": "code",
   "execution_count": 39,
   "id": "32d5eda1-6434-4325-8d9b-8c3f9e6d866d",
   "metadata": {},
   "outputs": [],
   "source": [
    "from sympy import init_printing, symbols, factor, expand, solveset, linsolve\n",
    "from sympy.plotting import plot"
   ]
  },
  {
   "cell_type": "code",
   "execution_count": 8,
   "id": "6fa79cd7-008b-4f80-8a3d-a35714593d12",
   "metadata": {},
   "outputs": [
    {
     "data": {
      "text/latex": [
       "$\\displaystyle 2 x - 1$"
      ],
      "text/plain": [
       "2⋅x - 1"
      ]
     },
     "execution_count": 8,
     "metadata": {},
     "output_type": "execute_result"
    }
   ],
   "source": [
    "#文字を記号として扱うことができる。\n",
    "init_printing(use_latex='mathjax')\n",
    "x = symbols('x')\n",
    "x + x -1"
   ]
  },
  {
   "cell_type": "code",
   "execution_count": 10,
   "id": "680adf67-6fd8-4e8a-a544-95ef39766b60",
   "metadata": {},
   "outputs": [
    {
     "data": {
      "text/latex": [
       "$\\displaystyle x^{2} - y^{2}$"
      ],
      "text/plain": [
       " 2    2\n",
       "x  - y "
      ]
     },
     "execution_count": 10,
     "metadata": {},
     "output_type": "execute_result"
    }
   ],
   "source": [
    "x, y = symbols('x y')\n",
    "f = x ** 2 - y **2 \n",
    "f"
   ]
  },
  {
   "cell_type": "code",
   "execution_count": 21,
   "id": "3353b5ed-8de2-4111-8569-c69b82d9befb",
   "metadata": {},
   "outputs": [
    {
     "data": {
      "text/latex": [
       "$\\displaystyle a^{2} - 4$"
      ],
      "text/plain": [
       " 2    \n",
       "a  - 4"
      ]
     },
     "execution_count": 21,
     "metadata": {},
     "output_type": "execute_result"
    }
   ],
   "source": [
    "f.subs([(x, 1), (y, 2)])\n",
    "a = symbols('a')\n",
    "f.subs([(x, a), (y, 2)])"
   ]
  },
  {
   "cell_type": "code",
   "execution_count": 24,
   "id": "5620db63-ceec-4c5d-8e92-6ef22e341bcb",
   "metadata": {},
   "outputs": [
    {
     "data": {
      "text/latex": [
       "$\\displaystyle \\left(x - y\\right) \\left(x + y\\right)$"
      ],
      "text/plain": [
       "(x - y)⋅(x + y)"
      ]
     },
     "execution_count": 24,
     "metadata": {},
     "output_type": "execute_result"
    }
   ],
   "source": [
    "f_factor = factor(f)\n",
    "f_factor"
   ]
  },
  {
   "cell_type": "code",
   "execution_count": 27,
   "id": "52f251fc-fead-4dc8-b258-72d583820b18",
   "metadata": {},
   "outputs": [
    {
     "data": {
      "text/latex": [
       "$\\displaystyle x^{3} - y^{3}$"
      ],
      "text/plain": [
       " 3    3\n",
       "x  - y "
      ]
     },
     "execution_count": 27,
     "metadata": {},
     "output_type": "execute_result"
    }
   ],
   "source": [
    "f2 = x ** 3 - y **3\n",
    "f_factor2 = factor(f2)\n",
    "f_factor2\n",
    "expand(f_factor2)"
   ]
  },
  {
   "cell_type": "code",
   "execution_count": 29,
   "id": "85454118-91b5-4db2-a6ec-02494edd5f51",
   "metadata": {},
   "outputs": [
    {
     "data": {
      "text/latex": [
       "$\\displaystyle \\left\\{-2\\right\\}$"
      ],
      "text/plain": [
       "{-2}"
      ]
     },
     "execution_count": 29,
     "metadata": {},
     "output_type": "execute_result"
    }
   ],
   "source": [
    "solveset(x + 10 - 8)"
   ]
  },
  {
   "cell_type": "code",
   "execution_count": 30,
   "id": "4a0cab9c-7833-4def-9bb7-2cb03f3fd14a",
   "metadata": {},
   "outputs": [
    {
     "data": {
      "text/latex": [
       "$\\displaystyle \\left\\{- \\frac{b}{2 a} - \\frac{\\sqrt{- 4 a c + b^{2}}}{2 a}, - \\frac{b}{2 a} + \\frac{\\sqrt{- 4 a c + b^{2}}}{2 a}\\right\\}$"
      ],
      "text/plain": [
       "⎧           _____________             _____________⎫\n",
       "⎪          ╱           2             ╱           2 ⎪\n",
       "⎨   b    ╲╱  -4⋅a⋅c + b       b    ╲╱  -4⋅a⋅c + b  ⎬\n",
       "⎪- ─── - ────────────────, - ─── + ────────────────⎪\n",
       "⎩  2⋅a         2⋅a           2⋅a         2⋅a       ⎭"
      ]
     },
     "execution_count": 30,
     "metadata": {},
     "output_type": "execute_result"
    }
   ],
   "source": [
    "b, c = symbols('b c')\n",
    "solveset(a*x**2 + b*x + c, x)"
   ]
  },
  {
   "cell_type": "code",
   "execution_count": 33,
   "id": "572a4ece-1bdb-46f0-8339-eecc42358782",
   "metadata": {},
   "outputs": [
    {
     "data": {
      "text/latex": [
       "$\\displaystyle \\left\\{\\left( -3, \\  8\\right)\\right\\}$"
      ],
      "text/plain": [
       "{(-3, 8)}"
      ]
     },
     "execution_count": 33,
     "metadata": {},
     "output_type": "execute_result"
    }
   ],
   "source": [
    "eq1 = x + y - 5\n",
    "eq2 = x - 2*y + 19\n",
    "linsolve([eq1, eq2], (x, y))"
   ]
  },
  {
   "cell_type": "code",
   "execution_count": 44,
   "id": "45790a9b-5926-4133-a6a1-f8630bff9484",
   "metadata": {},
   "outputs": [
    {
     "data": {
      "text/latex": [
       "$\\displaystyle x^{3} + 2 x^{2} - 19 x$"
      ],
      "text/plain": [
       " 3      2       \n",
       "x  + 2⋅x  - 19⋅x"
      ]
     },
     "execution_count": 44,
     "metadata": {},
     "output_type": "execute_result"
    }
   ],
   "source": [
    "f = x**3 + 2*x**2 - 19*x\n",
    "f"
   ]
  },
  {
   "cell_type": "code",
   "execution_count": 46,
   "id": "5efebde6-8c4d-42ee-a451-6c6c8e1dbe50",
   "metadata": {},
   "outputs": [
    {
     "data": {
      "image/png": "[encoded data removed]",
      "text/plain": [
       "<Figure size 640x480 with 1 Axes>"
      ]
     },
     "metadata": {},
     "output_type": "display_data"
    },
    {
     "data": {
      "text/plain": [
       "<sympy.plotting.plot.Plot at 0x7fd0d419c8e0>"
      ]
     },
     "execution_count": 46,
     "metadata": {},
     "output_type": "execute_result"
    }
   ],
   "source": [
    "plot(f, (x, -6, 5), legend=True)"
   ]
  }
 ],
 "metadata": {
  "kernelspec": {
   "display_name": "Python 3 (ipykernel)",
   "language": "python",
   "name": "python3"
  },
  "language_info": {
   "codemirror_mode": {
    "name": "ipython",
    "version": 3
   },
   "file_extension": ".py",
   "mimetype": "text/x-python",
   "name": "python",
   "nbconvert_exporter": "python",
   "pygments_lexer": "ipython3",
   "version": "3.8.13"
  }
 },
 "nbformat": 4,
 "nbformat_minor": 5
}
